{
  "nbformat": 4,
  "nbformat_minor": 0,
  "metadata": {
    "colab": {
      "provenance": []
    },
    "kernelspec": {
      "name": "python3",
      "display_name": "Python 3"
    },
    "language_info": {
      "name": "python"
    }
  },
  "cells": [
    {
      "cell_type": "markdown",
      "source": [
        "# Problem 2\n",
        "**2. Handling Missing Data:** After loading a dataset with pandas, detect any missing values. Impute these missing values with the mean of their respective columns. Plot the distribution of the data before and after imputation using histograms.\n"
      ],
      "metadata": {
        "id": "AuERguTX3qEs"
      }
    },
    {
      "cell_type": "code",
      "source": [
        "import pandas as pd\n",
        "import matplotlib.pyplot as plt\n",
        "shopping_data = pd.read_csv('/content/shopping_trends.csv')\n"
      ],
      "metadata": {
        "id": "7GajMJHO3xys"
      },
      "execution_count": null,
      "outputs": []
    },
    {
      "cell_type": "code",
      "source": [
        "# As we can see there is no null values in entire table\n",
        "missing_columns = shopping_data.isnull().sum()\n",
        "print(missing_columns)\n"
      ],
      "metadata": {
        "colab": {
          "base_uri": "https://localhost:8080/"
        },
        "id": "HirD2dk_DJhh",
        "outputId": "6f696307-6b10-4d44-a848-b57a09557041"
      },
      "execution_count": null,
      "outputs": [
        {
          "output_type": "stream",
          "name": "stdout",
          "text": [
            "Customer ID                 0\n",
            "Age                         0\n",
            "Gender                      0\n",
            "Item Purchased              0\n",
            "Category                    0\n",
            "Purchase Amount (USD)       0\n",
            "Location                    0\n",
            "Size                        0\n",
            "Color                       0\n",
            "Season                      0\n",
            "Review Rating               0\n",
            "Subscription Status         0\n",
            "Payment Method              0\n",
            "Shipping Type               0\n",
            "Discount Applied            0\n",
            "Promo Code Used             0\n",
            "Previous Purchases          0\n",
            "Preferred Payment Method    0\n",
            "Frequency of Purchases      0\n",
            "dtype: int64\n"
          ]
        }
      ]
    },
    {
      "cell_type": "code",
      "source": [
        "# As we can see there is no null values in entire table\n",
        "total_missing = shopping_data.isnull().sum().sum()\n",
        "print(total_missing)\n",
        "\n",
        "\n",
        "\n",
        "\n",
        "\n"
      ],
      "metadata": {
        "colab": {
          "base_uri": "https://localhost:8080/"
        },
        "id": "_WvIq8tG4t3K",
        "outputId": "3f17cffb-29cb-4ccf-9ec6-87d92bfc73d2"
      },
      "execution_count": null,
      "outputs": [
        {
          "output_type": "stream",
          "name": "stdout",
          "text": [
            "0\n"
          ]
        }
      ]
    }
  ]
}